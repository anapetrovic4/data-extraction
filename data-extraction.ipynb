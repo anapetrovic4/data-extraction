{
 "cells": [
  {
   "cell_type": "code",
   "execution_count": 94,
   "metadata": {},
   "outputs": [],
   "source": [
    "import numpy as np\n",
    "import pandas as pd\n",
    "import requests\n",
    "from io import StringIO"
   ]
  },
  {
   "cell_type": "code",
   "execution_count": 95,
   "metadata": {},
   "outputs": [],
   "source": [
    "# Extract the required GDP data from the given URL using web scraping\n",
    "URL=\"https://web.archive.org/web/20230902185326/https://en.wikipedia.org/wiki/List_of_countries_by_GDP_%28nominal%29\""
   ]
  },
  {
   "cell_type": "code",
   "execution_count": 96,
   "metadata": {},
   "outputs": [
    {
     "name": "stderr",
     "output_type": "stream",
     "text": [
      "/home/ap/miniconda3/envs/data-extraction/lib/python3.11/site-packages/urllib3/connectionpool.py:1103: InsecureRequestWarning: Unverified HTTPS request is being made to host 'web.archive.org'. Adding certificate verification is strongly advised. See: https://urllib3.readthedocs.io/en/latest/advanced-usage.html#tls-warnings\n",
      "  warnings.warn(\n"
     ]
    },
    {
     "name": "stdout",
     "output_type": "stream",
     "text": [
      "           Country GDP (Million USD)\n",
      "0            World         105568776\n",
      "1    United States          26854599\n",
      "2            China          19373586\n",
      "3            Japan           4409738\n",
      "4          Germany           4308854\n",
      "5            India           3736882\n",
      "6   United Kingdom           3158938\n",
      "7           France           2923489\n",
      "8            Italy           2169745\n",
      "9           Canada           2089672\n",
      "10          Brazil           2081235\n"
     ]
    }
   ],
   "source": [
    "# Extract table from webpage using pandas\n",
    "\n",
    "# 1 Send a GET request to the URL\n",
    "response = requests.get(URL, verify=False)\n",
    "\n",
    "# 2 Find all tables on the page\n",
    "html_string = response.text\n",
    "table = pd.read_html(StringIO(html_string), attrs={'class': 'wikitable sortable static-row-numbers plainrowheaders srn-white-background'})\n",
    "\n",
    "# 3 Convert list to dataframe\n",
    "df = table[0].copy()\n",
    "\n",
    "# 4 Replace the column headers with column numbers\n",
    "df.columns = range(df.shape[1])\n",
    "#print(df)\n",
    "\n",
    "# 5 Retain the rows with index 1 to 10, indicating the top 10 economies of the world\n",
    "top_10_economies = df.iloc[0:11]\n",
    "\n",
    "# 6 Retain the columns with index 0 and 2 (name of country and value of GDP quoted by IMF)\n",
    "top_10_economies_final = top_10_economies.iloc[:, [0, 2]]\n",
    "\n",
    "# 7 Assign column names as Country and GDP (Million USD)\n",
    "top_10_economies_final.columns = ['Country', 'GDP (Million USD)']\n",
    "print(top_10_economies_final)\n"
   ]
  },
  {
   "cell_type": "code",
   "execution_count": 97,
   "metadata": {},
   "outputs": [
    {
     "name": "stdout",
     "output_type": "stream",
     "text": [
      "type of top 10 economies <class 'pandas.core.frame.DataFrame'>\n"
     ]
    },
    {
     "name": "stderr",
     "output_type": "stream",
     "text": [
      "/tmp/ipykernel_1182/2023224780.py:3: FutureWarning: Downcasting object dtype arrays on .fillna, .ffill, .bfill is deprecated and will change in a future version. Call result.infer_objects(copy=False) instead. To opt-in to the future behavior, set `pd.set_option('future.no_silent_downcasting', True)`\n",
      "  top_10_economies_final.iloc[:,1] = top_10_economies_final.iloc[:,1].fillna(0)\n"
     ]
    }
   ],
   "source": [
    "# 1 Modify the GDP column of the DataFrame, converting the value available in Million USD to Billion USD \n",
    "top_10_economies_final.iloc[:,1] = pd.to_numeric(top_10_economies_final['GDP (Million USD)'], errors='coerce')\n",
    "top_10_economies_final.iloc[:,1] = top_10_economies_final.iloc[:,1].fillna(0)\n",
    "top_10_economies_final.iloc[:,1] = top_10_economies_final.iloc[:,1].astype(int)\n",
    "\n",
    "# 2 Convert the GDP value in Million USD to Billion USD\n",
    "def convert_mill_to_bill(gdp):\n",
    "    return gdp / 1000\n",
    "\n",
    "top_10_economies_final.iloc[:,1] = top_10_economies_final.iloc[:,1].apply(convert_mill_to_bill)\n",
    "\n",
    "# 3 Rename the column header to GDP (Billion USD)\n",
    "top_10_economies_final = top_10_economies_final.copy()\n",
    "top_10_economies_final.rename(columns={'GDP (Million USD)': 'GDP (Billion USD)'}, inplace=True)\n",
    "\n",
    "print('type of top 10 economies', type(top_10_economies_final))\n"
   ]
  },
  {
   "cell_type": "code",
   "execution_count": 99,
   "metadata": {},
   "outputs": [],
   "source": [
    "# 1 Save the df to the csv file named largest-economies.csv\n",
    "top_10_economies_final.to_csv('largest-economies.csv')"
   ]
  }
 ],
 "metadata": {
  "kernelspec": {
   "display_name": "data-extraction",
   "language": "python",
   "name": "python3"
  },
  "language_info": {
   "codemirror_mode": {
    "name": "ipython",
    "version": 3
   },
   "file_extension": ".py",
   "mimetype": "text/x-python",
   "name": "python",
   "nbconvert_exporter": "python",
   "pygments_lexer": "ipython3",
   "version": "3.11.9"
  }
 },
 "nbformat": 4,
 "nbformat_minor": 2
}
